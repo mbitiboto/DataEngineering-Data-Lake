{
 "cells": [
  {
   "cell_type": "code",
   "execution_count": 1,
   "metadata": {
    "editable": true
   },
   "outputs": [],
   "source": [
    "import configparser\n",
    "from datetime import datetime, date\n",
    "import os\n",
    "from pyspark.sql import SparkSession\n",
    "from pyspark.sql.functions import udf, col, monotonically_increasing_id\n",
    "from pyspark.sql.functions import year, month, dayofmonth, hour, weekofyear, date_format,to_date\n",
    "from zipfile import ZipFile\n",
    "from pyspark.sql.types import StructType, StructField, DoubleType, StringType, IntegerType, DateType, TimestampType"
   ]
  },
  {
   "cell_type": "code",
   "execution_count": 2,
   "metadata": {
    "editable": true
   },
   "outputs": [],
   "source": [
    "#config = configparser.ConfigParser()\n",
    "#config.read('dl.cfg')\n",
    "\n",
    "#os.environ['AWS_ACCESS_KEY_ID']=config['AWS CREDS']['AWS_ACCESS_KEY_ID']\n",
    "#os.environ['AWS_SECRET_ACCESS_KEY']=config['AWS CREDS']['AWS_SECRET_ACCESS_KEY']"
   ]
  },
  {
   "cell_type": "code",
   "execution_count": 3,
   "metadata": {
    "editable": true
   },
   "outputs": [],
   "source": [
    " spark = SparkSession \\\n",
    "        .builder \\\n",
    "        .config(\"spark.jars.packages\", \"org.apache.hadoop:hadoop-aws:2.7.0\") \\\n",
    "        .getOrCreate()"
   ]
  },
  {
   "cell_type": "code",
   "execution_count": 4,
   "metadata": {
    "editable": true
   },
   "outputs": [],
   "source": [
    "#with ZipFile('data/song-data.zip') as myzip:\n",
    "   # myzip.extractall('data/song_data')"
   ]
  },
  {
   "cell_type": "code",
   "execution_count": 5,
   "metadata": {
    "editable": true
   },
   "outputs": [],
   "source": [
    "#with ZipFile('data/log-data.zip') as myzip:\n",
    "    #myzip.extractall('data/log_data')"
   ]
  },
  {
   "cell_type": "code",
   "execution_count": 6,
   "metadata": {
    "editable": true
   },
   "outputs": [],
   "source": [
    "dfSong=spark.read.json('data/song_data/*/*/*/*.json')"
   ]
  },
  {
   "cell_type": "code",
   "execution_count": 7,
   "metadata": {
    "editable": true
   },
   "outputs": [
    {
     "name": "stdout",
     "output_type": "stream",
     "text": [
      "root\n",
      " |-- artist_id: string (nullable = true)\n",
      " |-- artist_latitude: double (nullable = true)\n",
      " |-- artist_location: string (nullable = true)\n",
      " |-- artist_longitude: double (nullable = true)\n",
      " |-- artist_name: string (nullable = true)\n",
      " |-- duration: double (nullable = true)\n",
      " |-- num_songs: long (nullable = true)\n",
      " |-- song_id: string (nullable = true)\n",
      " |-- title: string (nullable = true)\n",
      " |-- year: long (nullable = true)\n",
      "\n"
     ]
    }
   ],
   "source": [
    "dfSong.printSchema()"
   ]
  },
  {
   "cell_type": "code",
   "execution_count": 8,
   "metadata": {
    "editable": true
   },
   "outputs": [
    {
     "name": "stdout",
     "output_type": "stream",
     "text": [
      "+------------------+---------------+--------------------+----------------+--------------------+---------+---------+------------------+--------------------+----+\n",
      "|         artist_id|artist_latitude|     artist_location|artist_longitude|         artist_name| duration|num_songs|           song_id|               title|year|\n",
      "+------------------+---------------+--------------------+----------------+--------------------+---------+---------+------------------+--------------------+----+\n",
      "|ARDR4AC1187FB371A1|           null|                    |            null|Montserrat Caball...|511.16363|        1|SOBAYLL12A8C138AF9|Sono andati? Fing...|   0|\n",
      "|AREBBGV1187FB523D2|           null|         Houston, TX|            null|Mike Jones (Featu...|173.66159|        1|SOOLYAZ12A6701F4A6|Laws Patrolling (...|   0|\n",
      "|ARMAC4T1187FB3FA4C|       40.82624|   Morris Plains, NJ|       -74.47995|The Dillinger Esc...|207.77751|        1|SOBBUGU12A8C13E95D|Setting Fire to S...|2004|\n",
      "|ARPBNLO1187FB3D52F|       40.71455|        New York, NY|       -74.00712|            Tiny Tim| 43.36281|        1|SOAOIBZ12AB01815BE|I Hold Your Hand ...|2000|\n",
      "|ARNF6401187FB57032|       40.79086|New York, NY [Man...|       -73.96644|   Sophie B. Hawkins|  305.162|        1|SONWXQJ12A8C134D94|The Ballad Of Sle...|1994|\n",
      "|ARDNS031187B9924F0|       32.67828|             Georgia|       -83.22295|          Tim Wilson|186.48771|        1|SONYPOM12A8C13B2D7|I Think My Wife I...|2005|\n",
      "|ARLTWXK1187FB5A3F8|       32.74863|      Fort Worth, TX|       -97.32925|         King Curtis|326.00771|        1|SODREIN12A58A7F2E5|A Whiter Shade Of...|   0|\n",
      "|ARPFHN61187FB575F6|       41.88415|         Chicago, IL|       -87.63241|         Lupe Fiasco|279.97995|        1|SOWQTQZ12A58A7B63E|Streets On Fire (...|   0|\n",
      "|ARI2JSK1187FB496EF|       51.50632|     London, England|        -0.12714|Nick Ingman;Gavyn...|111.62077|        1|SODUJBS12A8C132150|Wessex Loses a Bride|   0|\n",
      "|AR9AWNF1187B9AB0B4|           null|Seattle, Washingt...|            null|Kenny G featuring...|236.93016|        1|SOZHPGD12A8C1394FE|     Baby Come To Me|   0|\n",
      "+------------------+---------------+--------------------+----------------+--------------------+---------+---------+------------------+--------------------+----+\n",
      "only showing top 10 rows\n",
      "\n"
     ]
    },
    {
     "data": {
      "text/plain": [
       "71"
      ]
     },
     "execution_count": 8,
     "metadata": {},
     "output_type": "execute_result"
    }
   ],
   "source": [
    "dfSong.show(10)\n",
    "dfSong.count()"
   ]
  },
  {
   "cell_type": "code",
   "execution_count": 9,
   "metadata": {
    "editable": true
   },
   "outputs": [
    {
     "name": "stdout",
     "output_type": "stream",
     "text": [
      "+------------------+--------------------+------------------+----+---------+\n",
      "|           song_id|               title|         artist_id|year| duration|\n",
      "+------------------+--------------------+------------------+----+---------+\n",
      "|SOGNCJP12A58A80271|Do You Finally Ne...|ARB29H41187B98F0EF|1972|342.56934|\n",
      "|SOOJPRH12A8C141995|   Loaded Like A Gun|ARBGXIG122988F409D|   0|173.19138|\n",
      "|SOFCHDR12AB01866EF|         Living Hell|AREVWGE1187B9B890A|   0|282.43546|\n",
      "|SOWTBJW12AC468AC6E|Broken-Down Merry...|ARQGYP71187FB44566|   0|151.84934|\n",
      "|SOGOSOV12AF72A285E|   ¿Dónde va Chichi?|ARGUVEV1187B98BA17|1997|313.12934|\n",
      "|SOTUKVB12AB0181477|   Blessed Assurance|AR7ZKHQ1187B98DD73|1993|  270.602|\n",
      "|SOMVWWT12A58A7AE05|Knocked Out Of Th...|ARQ9BO41187FB5CF1F|   0|183.17016|\n",
      "|SOBEBDG12A58A76D60|        Kassie Jones|ARI3BMM1187FB4255E|   0|220.78649|\n",
      "|SOILPQQ12AB017E82A|Sohna Nee Sohna Data|AR1ZHYZ1187FB3C717|   0|599.24853|\n",
      "|SOYMRWW12A6D4FAB14|The Moon And I (O...|ARKFYS91187B98E58F|   0| 267.7024|\n",
      "+------------------+--------------------+------------------+----+---------+\n",
      "only showing top 10 rows\n",
      "\n",
      "+------------------+----------------+---------------+---------+----------+\n",
      "|         artist_id|            name|       location|lattitude| longitude|\n",
      "+------------------+----------------+---------------+---------+----------+\n",
      "|ARPBNLO1187FB3D52F|        Tiny Tim|   New York, NY| 40.71455| -74.00712|\n",
      "|ARBEBBY1187B9B43DB|       Tom Petty|Gainesville, FL|     null|      null|\n",
      "|AR0IAWL1187B9A96D0|    Danilo Perez|         Panama|   8.4177| -80.11278|\n",
      "|ARMBR4Y1187B9990EB|    David Martin|California - SF| 37.77916|-122.42005|\n",
      "|ARD0S291187B9B7BF5|         Rated R|           Ohio|     null|      null|\n",
      "|AR0RCMP1187FB3F427|Billie Jo Spears|   Beaumont, TX| 30.08615| -94.10158|\n",
      "|ARKRRTF1187B9984DA|Sonora Santanera|               |     null|      null|\n",
      "|ARHHO3O1187B989413|       Bob Azzam|               |     null|      null|\n",
      "|ARJIE2Y1187B994AB7|     Line Renaud|               |     null|      null|\n",
      "|ARGIWFO1187B9B55B7|  Five Bolt Main|               |     null|      null|\n",
      "+------------------+----------------+---------------+---------+----------+\n",
      "only showing top 10 rows\n",
      "\n"
     ]
    },
    {
     "data": {
      "text/plain": [
       "DataFrame[artist_id: string, name: string, location: string, lattitude: double, longitude: double]"
      ]
     },
     "execution_count": 9,
     "metadata": {},
     "output_type": "execute_result"
    }
   ],
   "source": [
    "dfSong.createOrReplaceTempView('data_song_table')\n",
    "song_table=spark.sql(\"\"\" SELECT DISTINCT (song_id), title, artist_id, year, duration \n",
    "                          FROM data_song_table \"\"\")\n",
    "artist_table=spark.sql(\"\"\"SELECT DISTINCT (artist_id), artist_name AS name, artist_location AS location, artist_latitude AS lattitude, artist_longitude AS longitude\n",
    "                           FROM data_song_table\"\"\")\n",
    "song_table.show(10)\n",
    "artist_table.show(10)\n",
    "artist_table"
   ]
  },
  {
   "cell_type": "code",
   "execution_count": 10,
   "metadata": {
    "editable": true
   },
   "outputs": [
    {
     "name": "stdout",
     "output_type": "stream",
     "text": [
      "root\n",
      " |-- artist: string (nullable = true)\n",
      " |-- auth: string (nullable = true)\n",
      " |-- firstName: string (nullable = true)\n",
      " |-- gender: string (nullable = true)\n",
      " |-- itemInSession: long (nullable = true)\n",
      " |-- lastName: string (nullable = true)\n",
      " |-- length: double (nullable = true)\n",
      " |-- level: string (nullable = true)\n",
      " |-- location: string (nullable = true)\n",
      " |-- method: string (nullable = true)\n",
      " |-- page: string (nullable = true)\n",
      " |-- registration: double (nullable = true)\n",
      " |-- sessionId: long (nullable = true)\n",
      " |-- song: string (nullable = true)\n",
      " |-- status: long (nullable = true)\n",
      " |-- ts: long (nullable = true)\n",
      " |-- userAgent: string (nullable = true)\n",
      " |-- userId: string (nullable = true)\n",
      "\n"
     ]
    },
    {
     "data": {
      "text/plain": [
       "DataFrame[artist: string, auth: string, firstName: string, gender: string, itemInSession: bigint, lastName: string, length: double, level: string, location: string, method: string, page: string, registration: double, sessionId: bigint, song: string, status: bigint, ts: bigint, userAgent: string, userId: string]"
      ]
     },
     "execution_count": 10,
     "metadata": {},
     "output_type": "execute_result"
    }
   ],
   "source": [
    "dfLog=spark.read.json('data/log_data/')\n",
    "dfLog = dfLog.filter(dfLog.page=='NextSong')\n",
    "dfLog.printSchema()\n",
    "dfLog"
   ]
  },
  {
   "cell_type": "code",
   "execution_count": 11,
   "metadata": {
    "editable": true
   },
   "outputs": [
    {
     "data": {
      "text/plain": [
       "[Row(artist='Harmonia', auth='Logged In', firstName='Ryan', gender='M', itemInSession=0, lastName='Smith', length=655.77751, level='free', location='San Jose-Sunnyvale-Santa Clara, CA', method='PUT', page='NextSong', registration=1541016707796.0, sessionId=583, song='Sehr kosmisch', status=200, ts=1542241826796, userAgent='\"Mozilla/5.0 (X11; Linux x86_64) AppleWebKit/537.36 (KHTML, like Gecko) Ubuntu Chromium/36.0.1985.125 Chrome/36.0.1985.125 Safari/537.36\"', userId='26'),\n",
       " Row(artist='The Prodigy', auth='Logged In', firstName='Ryan', gender='M', itemInSession=1, lastName='Smith', length=260.07465, level='free', location='San Jose-Sunnyvale-Santa Clara, CA', method='PUT', page='NextSong', registration=1541016707796.0, sessionId=583, song='The Big Gundown', status=200, ts=1542242481796, userAgent='\"Mozilla/5.0 (X11; Linux x86_64) AppleWebKit/537.36 (KHTML, like Gecko) Ubuntu Chromium/36.0.1985.125 Chrome/36.0.1985.125 Safari/537.36\"', userId='26'),\n",
       " Row(artist='Train', auth='Logged In', firstName='Ryan', gender='M', itemInSession=2, lastName='Smith', length=205.45261, level='free', location='San Jose-Sunnyvale-Santa Clara, CA', method='PUT', page='NextSong', registration=1541016707796.0, sessionId=583, song='Marry Me', status=200, ts=1542242741796, userAgent='\"Mozilla/5.0 (X11; Linux x86_64) AppleWebKit/537.36 (KHTML, like Gecko) Ubuntu Chromium/36.0.1985.125 Chrome/36.0.1985.125 Safari/537.36\"', userId='26'),\n",
       " Row(artist='Sony Wonder', auth='Logged In', firstName='Samuel', gender='M', itemInSession=0, lastName='Gonzalez', length=218.06975, level='free', location='Houston-The Woodlands-Sugar Land, TX', method='PUT', page='NextSong', registration=1540492941796.0, sessionId=597, song='Blackbird', status=200, ts=1542253449796, userAgent='\"Mozilla/5.0 (Macintosh; Intel Mac OS X 10_9_4) AppleWebKit/537.77.4 (KHTML, like Gecko) Version/7.0.5 Safari/537.77.4\"', userId='61'),\n",
       " Row(artist='Van Halen', auth='Logged In', firstName='Tegan', gender='F', itemInSession=2, lastName='Levine', length=289.38404, level='paid', location='Portland-South Portland, ME', method='PUT', page='NextSong', registration=1540794356796.0, sessionId=602, song='Best Of Both Worlds (Remastered Album Version)', status=200, ts=1542260935796, userAgent='\"Mozilla/5.0 (Macintosh; Intel Mac OS X 10_9_4) AppleWebKit/537.36 (KHTML, like Gecko) Chrome/36.0.1985.143 Safari/537.36\"', userId='80')]"
      ]
     },
     "execution_count": 11,
     "metadata": {},
     "output_type": "execute_result"
    }
   ],
   "source": [
    "dfLog.count()\n",
    "dfLog.take(5)"
   ]
  },
  {
   "cell_type": "code",
   "execution_count": 12,
   "metadata": {
    "editable": true
   },
   "outputs": [
    {
     "name": "stdout",
     "output_type": "stream",
     "text": [
      "+-------+----------+---------+------+-----+\n",
      "|user_id|first_name|last_name|gender|level|\n",
      "+-------+----------+---------+------+-----+\n",
      "|     98|    Jordyn|   Powell|     F| free|\n",
      "|     34|    Evelin|    Ayala|     F| free|\n",
      "|     85|   Kinsley|    Young|     F| paid|\n",
      "|     38|    Gianna|    Jones|     F| free|\n",
      "|     85|   Kinsley|    Young|     F| free|\n",
      "|     63|      Ayla|  Johnson|     F| free|\n",
      "|     37|    Jordan|    Hicks|     F| free|\n",
      "|      6|   Cecilia|    Owens|     F| free|\n",
      "|     15|      Lily|     Koch|     F| paid|\n",
      "|     27|    Carlos|   Carter|     M| free|\n",
      "+-------+----------+---------+------+-----+\n",
      "only showing top 10 rows\n",
      "\n"
     ]
    },
    {
     "data": {
      "text/plain": [
       "104"
      ]
     },
     "execution_count": 12,
     "metadata": {},
     "output_type": "execute_result"
    }
   ],
   "source": [
    "dfLog.createOrReplaceTempView('dat_log_table')\n",
    "users_table= spark.sql(\"\"\"SELECT DISTINCT(userId) AS user_id, firstName AS first_name, lastName as last_name, gender, level\n",
    "                          FROM dat_log_table\"\"\")\n",
    "\n",
    "users_table.show(10)\n",
    "users_table.count()"
   ]
  },
  {
   "cell_type": "code",
   "execution_count": 13,
   "metadata": {
    "editable": true
   },
   "outputs": [
    {
     "name": "stdout",
     "output_type": "stream",
     "text": [
      "root\n",
      " |-- artist: string (nullable = true)\n",
      " |-- auth: string (nullable = true)\n",
      " |-- firstName: string (nullable = true)\n",
      " |-- gender: string (nullable = true)\n",
      " |-- itemInSession: long (nullable = true)\n",
      " |-- lastName: string (nullable = true)\n",
      " |-- length: double (nullable = true)\n",
      " |-- level: string (nullable = true)\n",
      " |-- location: string (nullable = true)\n",
      " |-- method: string (nullable = true)\n",
      " |-- page: string (nullable = true)\n",
      " |-- registration: double (nullable = true)\n",
      " |-- sessionId: long (nullable = true)\n",
      " |-- song: string (nullable = true)\n",
      " |-- status: long (nullable = true)\n",
      " |-- ts: long (nullable = true)\n",
      " |-- userAgent: string (nullable = true)\n",
      " |-- userId: string (nullable = true)\n",
      " |-- timestamp: timestamp (nullable = true)\n",
      " |-- datetime: string (nullable = true)\n",
      " |-- hour: integer (nullable = true)\n",
      " |-- day: integer (nullable = true)\n",
      " |-- week: integer (nullable = true)\n",
      " |-- month: integer (nullable = true)\n",
      " |-- year: integer (nullable = true)\n",
      " |-- Weekday: string (nullable = true)\n",
      "\n"
     ]
    },
    {
     "data": {
      "text/plain": [
       "[Row(artist='Harmonia', auth='Logged In', firstName='Ryan', gender='M', itemInSession=0, lastName='Smith', length=655.77751, level='free', location='San Jose-Sunnyvale-Santa Clara, CA', method='PUT', page='NextSong', registration=1541016707796.0, sessionId=583, song='Sehr kosmisch', status=200, ts=1542241826796, userAgent='\"Mozilla/5.0 (X11; Linux x86_64) AppleWebKit/537.36 (KHTML, like Gecko) Ubuntu Chromium/36.0.1985.125 Chrome/36.0.1985.125 Safari/537.36\"', userId='26', timestamp=datetime.datetime(2018, 11, 15, 0, 30, 26, 796000), datetime='2018-11-15 00:30:26', hour=0, day=15, week=46, month=11, year=2018, Weekday='Thu'),\n",
       " Row(artist='The Prodigy', auth='Logged In', firstName='Ryan', gender='M', itemInSession=1, lastName='Smith', length=260.07465, level='free', location='San Jose-Sunnyvale-Santa Clara, CA', method='PUT', page='NextSong', registration=1541016707796.0, sessionId=583, song='The Big Gundown', status=200, ts=1542242481796, userAgent='\"Mozilla/5.0 (X11; Linux x86_64) AppleWebKit/537.36 (KHTML, like Gecko) Ubuntu Chromium/36.0.1985.125 Chrome/36.0.1985.125 Safari/537.36\"', userId='26', timestamp=datetime.datetime(2018, 11, 15, 0, 41, 21, 796000), datetime='2018-11-15 00:41:21', hour=0, day=15, week=46, month=11, year=2018, Weekday='Thu')]"
      ]
     },
     "execution_count": 13,
     "metadata": {},
     "output_type": "execute_result"
    }
   ],
   "source": [
    "#get_timestamp = udf(lambda x: datetime.fromtimestamp(x/1000.0).strftime(\"%Y-%m-%d %H:%M:%S\"))\n",
    "get_timestamp = udf(lambda x: datetime.fromtimestamp(x/1000.0), TimestampType())\n",
    "dfLog=dfLog.withColumn(\"timestamp\", get_timestamp(dfLog.ts))\n",
    "\n",
    "get_datetime = udf(lambda x: x.strftime(\"%Y-%m-%d %H:%M:%S\"))\n",
    "dfLog=dfLog.withColumn(\"datetime\", get_datetime(dfLog.timestamp)) \\\n",
    "                    .withColumn(\"hour\", hour('timestamp')) \\\n",
    "                    .withColumn(\"day\", dayofmonth('timestamp')) \\\n",
    "                    .withColumn(\"week\", weekofyear('timestamp')) \\\n",
    "                    .withColumn(\"month\", month('timestamp')) \\\n",
    "                    .withColumn(\"year\", year('timestamp')) \\\n",
    "                    .withColumn(\"Weekday\", date_format('timestamp', 'E'))\n",
    "dfLog.printSchema()\n",
    "dfLog.take(2)"
   ]
  },
  {
   "cell_type": "code",
   "execution_count": 14,
   "metadata": {
    "editable": true
   },
   "outputs": [
    {
     "name": "stdout",
     "output_type": "stream",
     "text": [
      "+-------------------+----+---+-----+----+-------+\n",
      "|         start_time|hour|day|month|year|weekday|\n",
      "+-------------------+----+---+-----+----+-------+\n",
      "|2018-11-21 05:18:03|   5| 21|   11|2018|    Wed|\n",
      "|2018-11-21 05:59:29|   5| 21|   11|2018|    Wed|\n",
      "|2018-11-21 11:54:20|  11| 21|   11|2018|    Wed|\n",
      "|2018-11-21 23:28:20|  23| 21|   11|2018|    Wed|\n",
      "|2018-11-14 16:26:21|  16| 14|   11|2018|    Wed|\n",
      "+-------------------+----+---+-----+----+-------+\n",
      "only showing top 5 rows\n",
      "\n"
     ]
    },
    {
     "data": {
      "text/plain": [
       "6813"
      ]
     },
     "execution_count": 14,
     "metadata": {},
     "output_type": "execute_result"
    }
   ],
   "source": [
    "dfLog.createOrReplaceTempView('date_log_table')\n",
    "time_table = spark.sql(\"\"\"SELECT DISTINCT(datetime) AS start_time, hour, day, month,year, weekday\n",
    "                        FROM date_log_table\"\"\")\n",
    "time_table.show(5)\n",
    "time_table.count()"
   ]
  },
  {
   "cell_type": "code",
   "execution_count": 15,
   "metadata": {
    "editable": true
   },
   "outputs": [
    {
     "name": "stdout",
     "output_type": "stream",
     "text": [
      "+-----------+-------+-----+------------------+------------------+----------+---------+--------------------+\n",
      "|songplay_id|user_id|level|           song_id|         artist_id|session_id| location|          user_agent|\n",
      "+-----------+-------+-----+------------------+------------------+----------+---------+--------------------+\n",
      "|          0|     15| paid|SOZCTXZ12AB0182364|AR5KOSW1187FB35FF4|       818|Dubai UAE|\"Mozilla/5.0 (X11...|\n",
      "+-----------+-------+-----+------------------+------------------+----------+---------+--------------------+\n",
      "\n"
     ]
    },
    {
     "data": {
      "text/plain": [
       "1"
      ]
     },
     "execution_count": 15,
     "metadata": {},
     "output_type": "execute_result"
    }
   ],
   "source": [
    "#song_log_join= spark.sql(\"\"\"SELECT * FROM data_song_table\"\"\")\n",
    "#get_timestamp = udf(lambda x: datetime.fromtimestamp(x/1000.0), TimestampType())\n",
    "#get_datetime = udf(lambda x: x.strftime(\"%Y-%m-%d %H:%M:%S\"))\n",
    "\n",
    "songplays_table= spark.sql(\"\"\" SELECT monotonically_increasing_id() AS  songplay_id, dat_log_table.userId AS user_id, dat_log_table.level, \n",
    "                                     data_song_table.song_id, data_song_table.artist_id, dat_log_table.sessionId AS session_id,\n",
    "                                     data_song_table.artist_location AS location, dat_log_table.userAgent AS user_agent\n",
    "                                FROM dat_log_table \n",
    "                                JOIN data_song_table ON dat_log_table.artist==data_song_table.artist_name\n",
    "                                                      AND dat_log_table.song == data_song_table.title\n",
    "                                \"\"\") \n",
    "songplays_table.show(50)\n",
    "songplays_table.count()"
   ]
  },
  {
   "cell_type": "code",
   "execution_count": 16,
   "metadata": {
    "editable": true
   },
   "outputs": [
    {
     "name": "stdout",
     "output_type": "stream",
     "text": [
      "root\n",
      " |-- songplay_id: long (nullable = false)\n",
      " |-- user_id: string (nullable = true)\n",
      " |-- level: string (nullable = true)\n",
      " |-- song_id: string (nullable = true)\n",
      " |-- artist_id: string (nullable = true)\n",
      " |-- session_id: long (nullable = true)\n",
      " |-- location: string (nullable = true)\n",
      " |-- user_agent: string (nullable = true)\n",
      " |-- start_time: string (nullable = true)\n",
      " |-- month: integer (nullable = true)\n",
      " |-- year: integer (nullable = true)\n",
      "\n",
      "+-----------+-------+-----+------------------+------------------+----------+---------+--------------------+-------------------+-----+----+\n",
      "|songplay_id|user_id|level|           song_id|         artist_id|session_id| location|          user_agent|         start_time|month|year|\n",
      "+-----------+-------+-----+------------------+------------------+----------+---------+--------------------+-------------------+-----+----+\n",
      "|          0|     15| paid|SOZCTXZ12AB0182364|AR5KOSW1187FB35FF4|       818|Dubai UAE|\"Mozilla/5.0 (X11...|2018-11-21 21:56:47|   11|2018|\n",
      "+-----------+-------+-----+------------------+------------------+----------+---------+--------------------+-------------------+-----+----+\n",
      "\n"
     ]
    }
   ],
   "source": [
    "df_songplays_table= dfLog.join(dfSong, (dfLog.artist==dfSong.artist_name) \\\n",
    "                              & (dfLog.song==dfSong.title )) \\\n",
    "                             .select( monotonically_increasing_id().alias('songplay_id'), col('userId').alias('user_id'), col('level'), \\\n",
    "                                     col('song_id'), col('artist_id'), col('sessionId').alias('session_id'), col('artist_location').alias('location'), \\\n",
    "                                     col('userAgent').alias('user_agent'), col('datetime').alias('start_time'),col('month'), dfLog.year).dropDuplicates()\n",
    "df_songplays_table.printSchema()\n",
    "df_songplays_table.show(3)"
   ]
  },
  {
   "cell_type": "code",
   "execution_count": 18,
   "metadata": {
    "editable": true
   },
   "outputs": [
    {
     "name": "stdout",
     "output_type": "stream",
     "text": [
      "root\n",
      " |-- artist_id: string (nullable = true)\n",
      " |-- artist_latitude: double (nullable = true)\n",
      " |-- artist_location: string (nullable = true)\n",
      " |-- artist_longitude: double (nullable = true)\n",
      " |-- artist_name: string (nullable = true)\n",
      " |-- duration: double (nullable = true)\n",
      " |-- num_songs: long (nullable = true)\n",
      " |-- song_id: string (nullable = true)\n",
      " |-- title: string (nullable = true)\n",
      " |-- year: long (nullable = true)\n",
      "\n"
     ]
    }
   ],
   "source": [
    "input_data =\"data/\"\n",
    "song_data=os.path.join(input_data, 'song_data', '*', '*', '*', '*.json')\n",
    "song_df=spark.read.json(song_data)\n",
    "song_df.printSchema()"
   ]
  },
  {
   "cell_type": "code",
   "execution_count": 19,
   "metadata": {
    "editable": true
   },
   "outputs": [
    {
     "name": "stdout",
     "output_type": "stream",
     "text": [
      "root\n",
      " |-- songplay_id: long (nullable = false)\n",
      " |-- user_id: string (nullable = true)\n",
      " |-- level: string (nullable = true)\n",
      " |-- song_id: string (nullable = true)\n",
      " |-- artist_id: string (nullable = true)\n",
      " |-- session_id: long (nullable = true)\n",
      " |-- location: string (nullable = true)\n",
      " |-- user_agent: string (nullable = true)\n",
      " |-- start_time: string (nullable = true)\n",
      " |-- month: integer (nullable = true)\n",
      " |-- year: integer (nullable = true)\n",
      "\n",
      "+-----------+-------+-----+------------------+------------------+----------+---------+--------------------+-------------------+-----+----+\n",
      "|songplay_id|user_id|level|           song_id|         artist_id|session_id| location|          user_agent|         start_time|month|year|\n",
      "+-----------+-------+-----+------------------+------------------+----------+---------+--------------------+-------------------+-----+----+\n",
      "|          0|     15| paid|SOZCTXZ12AB0182364|AR5KOSW1187FB35FF4|       818|Dubai UAE|\"Mozilla/5.0 (X11...|2018-11-21 21:56:47|   11|2018|\n",
      "|          2|     24| paid|SOGDBUF12A8C140FAA|AR558FS1187FB45658|       672|         |\"Mozilla/5.0 (Win...|2018-11-19 09:14:20|   11|2018|\n",
      "|          1|     10| free|SOGDBUF12A8C140FAA|AR558FS1187FB45658|       484|         |\"Mozilla/5.0 (Mac...|2018-11-14 05:06:03|   11|2018|\n",
      "+-----------+-------+-----+------------------+------------------+----------+---------+--------------------+-------------------+-----+----+\n",
      "only showing top 3 rows\n",
      "\n"
     ]
    }
   ],
   "source": [
    "df_songplays_table= dfLog.join(song_df, dfLog.song==song_df.title) \\\n",
    "                                    .select( monotonically_increasing_id().alias('songplay_id'), col('userId').alias('user_id'), col('level'), \\\n",
    "                                     col('song_id'), col('artist_id'), col('sessionId').alias('session_id'), (song_df.artist_location).alias('location'), \\\n",
    "                                     col('userAgent').alias('user_agent'), col('datetime').alias('start_time'),col('month'), dfLog.year).dropDuplicates()\n",
    "df_songplays_table.printSchema()\n",
    "df_songplays_table.show(3)"
   ]
  },
  {
   "cell_type": "code",
   "execution_count": 21,
   "metadata": {
    "editable": true
   },
   "outputs": [
    {
     "name": "stdout",
     "output_type": "stream",
     "text": [
      "Read songs from parquet\n",
      "Read artists from parquet\n"
     ]
    }
   ],
   "source": [
    "output_data = \"spark-warehouse/\"\n",
    "songs_df_ = spark.read.parquet('{}songs/'.format(output_data))\n",
    "print(\"Read songs from parquet\")\n",
    "artists_df_ = spark.read.parquet('{}artists/'.format(output_data))\n",
    "print(\"Read artists from parquet\")"
   ]
  },
  {
   "cell_type": "code",
   "execution_count": 22,
   "metadata": {
    "editable": true
   },
   "outputs": [
    {
     "name": "stdout",
     "output_type": "stream",
     "text": [
      "root\n",
      " |-- song_id: string (nullable = true)\n",
      " |-- title: string (nullable = true)\n",
      " |-- duration: double (nullable = true)\n",
      " |-- year: integer (nullable = true)\n",
      " |-- artist_id: string (nullable = true)\n",
      "\n"
     ]
    }
   ],
   "source": [
    "songs_df_.printSchema()"
   ]
  },
  {
   "cell_type": "code",
   "execution_count": 23,
   "metadata": {
    "editable": true
   },
   "outputs": [
    {
     "name": "stdout",
     "output_type": "stream",
     "text": [
      "root\n",
      " |-- artist_id: string (nullable = true)\n",
      " |-- name: string (nullable = true)\n",
      " |-- location: string (nullable = true)\n",
      " |-- lattitude: double (nullable = true)\n",
      " |-- longitude: double (nullable = true)\n",
      "\n"
     ]
    }
   ],
   "source": [
    "artists_df_.printSchema()"
   ]
  },
  {
   "cell_type": "code",
   "execution_count": 24,
   "metadata": {
    "editable": true
   },
   "outputs": [
    {
     "name": "stdout",
     "output_type": "stream",
     "text": [
      "root\n",
      " |-- song_id: string (nullable = true)\n",
      " |-- title: string (nullable = true)\n",
      " |-- duration: double (nullable = true)\n",
      " |-- year: integer (nullable = true)\n",
      " |-- artist_id: string (nullable = true)\n",
      " |-- name: string (nullable = true)\n",
      " |-- location: string (nullable = true)\n",
      " |-- lattitude: double (nullable = true)\n",
      " |-- longitude: double (nullable = true)\n",
      "\n"
     ]
    }
   ],
   "source": [
    "songs_artists_df = songs_df_.join(artists_df_, artists_df_.artist_id==songs_df_.artist_id).drop(songs_df_.artist_id)\n",
    "songs_artists_df.printSchema()"
   ]
  },
  {
   "cell_type": "code",
   "execution_count": 27,
   "metadata": {
    "editable": true
   },
   "outputs": [
    {
     "name": "stdout",
     "output_type": "stream",
     "text": [
      "root\n",
      " |-- songplay_id: long (nullable = false)\n",
      " |-- user_id: string (nullable = true)\n",
      " |-- level: string (nullable = true)\n",
      " |-- song_id: string (nullable = true)\n",
      " |-- artist_id: string (nullable = true)\n",
      " |-- session_id: long (nullable = true)\n",
      " |-- location: string (nullable = true)\n",
      " |-- user_agent: string (nullable = true)\n",
      " |-- start_time: string (nullable = true)\n",
      " |-- month: integer (nullable = true)\n",
      " |-- year: integer (nullable = true)\n",
      "\n",
      "+-----------+-------+-----+------------------+------------------+----------+---------+--------------------+-------------------+-----+----+\n",
      "|songplay_id|user_id|level|           song_id|         artist_id|session_id| location|          user_agent|         start_time|month|year|\n",
      "+-----------+-------+-----+------------------+------------------+----------+---------+--------------------+-------------------+-----+----+\n",
      "| 8589934592|     15| paid|SOZCTXZ12AB0182364|AR5KOSW1187FB35FF4|       818|Dubai UAE|\"Mozilla/5.0 (X11...|2018-11-21 21:56:47|   11|2018|\n",
      "+-----------+-------+-----+------------------+------------------+----------+---------+--------------------+-------------------+-----+----+\n",
      "\n"
     ]
    }
   ],
   "source": [
    "df_songplays_table_= dfLog.join(songs_artists_df, (dfLog.song==songs_artists_df.title) \\\n",
    "                                & (songs_artists_df.name==dfLog.artist)) \\\n",
    "                                    .select( monotonically_increasing_id().alias('songplay_id'), col('userId').alias('user_id'), col('level'), \\\n",
    "                                     col('song_id'), col('artist_id'), col('sessionId').alias('session_id'), (songs_artists_df.location), \\\n",
    "                                     col('userAgent').alias('user_agent'), col('datetime').alias('start_time'),col('month'), dfLog.year).dropDuplicates()\n",
    "df_songplays_table_.printSchema()\n",
    "df_songplays_table_.show(3)"
   ]
  },
  {
   "cell_type": "code",
   "execution_count": null,
   "metadata": {
    "editable": true
   },
   "outputs": [],
   "source": []
  }
 ],
 "metadata": {
  "kernelspec": {
   "display_name": "Python 3",
   "language": "python",
   "name": "python3"
  },
  "language_info": {
   "codemirror_mode": {
    "name": "ipython",
    "version": 3
   },
   "file_extension": ".py",
   "mimetype": "text/x-python",
   "name": "python",
   "nbconvert_exporter": "python",
   "pygments_lexer": "ipython3",
   "version": "3.6.3"
  }
 },
 "nbformat": 4,
 "nbformat_minor": 4
}
